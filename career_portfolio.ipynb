{
 "cells": [
  {
   "cell_type": "code",
   "execution_count": null,
   "metadata": {},
   "outputs": [],
   "source": [
    "import streamlit as st\n",
    "from constant import *\n",
    "import numpy as np\n",
    "import pandas as pd\n",
    "from PIL import Image\n",
    "from streamlit_timeline import timeline\n",
    "import plotly.express as px\n",
    "import plotly.figure_factory as ff\n",
    "import requests\n",
    "import re\n",
    "import plotly.graph_objects as go\n",
    "import io\n",
    "import matplotlib.pyplot as plt\n",
    "import streamlit.components.v1 as components\n",
    "from graph_builder import *\n",
    "from streamlit_player import st_player\n"
   ]
  },
  {
   "cell_type": "code",
   "execution_count": null,
   "metadata": {},
   "outputs": [],
   "source": [
    "\n",
    "# Set page configuration\n",
    "st.set_page_config(page_title=\"Tina Sterite's Portfolio\", layout=\"wide\", page_icon='👩🏻‍🚀')\n",
    "\n",
    "# Sidebar content\n",
    "st.sidebar.markdown(info['Stackoverflow_flair'], unsafe_allow_html=True)\n",
    "\n",
    "# About me section\n",
    "st.subheader('About me')\n",
    "st.write(info['Brief'])\n",
    "\n",
    "# Career snapshot\n",
    "st.subheader('Career snapshot')\n",
    "with st.spinner(text=\"Building line\"):\n",
    "    with open('timeline.json', \"r\") as f:\n",
    "        data = f.read()\n",
    "        timeline(data, height=500)\n",
    "\n",
    "# Skills & Tools section\n",
    "st.subheader('Skills & Tools ⚒️')\n",
    "def skill_tab():\n",
    "    rows, cols = divmod(len(info['skills']), skill_col_size)\n",
    "    if cols:\n",
    "        rows += 1\n",
    "    skills = iter(info['skills'])\n",
    "    for _ in range(rows):\n",
    "        columns = st.columns(skill_col_size)\n",
    "        for index in range(skill_col_size):\n",
    "            try:\n",
    "                skill = next(skills)\n",
    "                columns[index].button(skill)\n",
    "            except StopIteration:\n",
    "                break\n",
    "\n",
    "with st.spinner(text=\"Loading section...\"):\n",
    "    skill_tab()"
   ]
  },
  {
   "cell_type": "code",
   "execution_count": 5,
   "metadata": {},
   "outputs": [
    {
     "name": "stdout",
     "output_type": "stream",
     "text": [
      "['Course', 'Year', 'Institute', 'Score']\n"
     ]
    }
   ],
   "source": [
    "info = {\"edu\":{\"Course\":\"Specialized Studies Program, Business Intelligence and Data Warehousing\",\n",
    "                 \"Year\":\"2017\",\n",
    "                 \"Institute\":\"University of California, Irvine Division of Continuing Education \",\n",
    "                 \"Score\":\"4.0 GPA\"}}\n",
    "values=list(info['edu'].keys())\n",
    "print(values)\n",
    "# Education section\n",
    "# st.subheader('Education 📖')\n",
    "# fig = go.Figure(data=[go.Table(\n",
    "#     header=dict(values=list(info['edu'].columns),\n",
    "#                 fill_color='paleturquoise',\n",
    "#                 align='left', height=65, font_size=20),\n",
    "#     cells=dict(values=info['edu'].transpose().values.tolist(),\n",
    "#                fill_color='lavender',\n",
    "#                align='left', height=40, font_size=15))])\n",
    "\n",
    "# fig.update_layout(width=750, height=400)\n",
    "# st.plotly_chart(fig)\n"
   ]
  },
  {
   "cell_type": "code",
   "execution_count": null,
   "metadata": {},
   "outputs": [],
   "source": [
    "\n",
    "# Achievements section\n",
    "st.subheader('Achievements 🥇')\n",
    "achievement_list = ''.join([f'<li>{item}</li>' for item in info['achievements']])\n",
    "st.markdown(f'<ul>{achievement_list}</ul>', unsafe_allow_html=True)\n",
    "\n",
    "# LinkedIn section\n",
    "st.subheader('LinkedIn Profile')\n",
    "st.markdown(\"\"\"\n",
    "<div class=\"badge-base LI-profile-badge\" data-locale=\"en_US\" data-size=\"medium\" data-theme=\"light\" data-type=\"VERTICAL\" data-vanity=\"tina-s-974409b\" data-version=\"v1\">\n",
    "    <a class=\"badge-base__link LI-simple-link\" href=\"https://www.linkedin.com/in/tina-s-974409b?trk=profile-badge\">Tina S.</a>\n",
    "</div>\n",
    "\"\"\", unsafe_allow_html=True)\n",
    "\n",
    "# Daily routine as Data Scientist\n",
    "st.subheader('Daily routine as Business Intelligence Engineer')\n",
    "st.graphviz_chart(graph)"
   ]
  },
  {
   "cell_type": "code",
   "execution_count": null,
   "metadata": {},
   "outputs": [],
   "source": [
    "\n",
    "# Sidebar contact and resume download\n",
    "st.sidebar.caption('Wish to connect?')\n",
    "st.sidebar.write('📧: tsterite@gmail.com')\n",
    "pdfFileObj = open('pdfs/Resume_DSterite.pdf', 'rb')\n",
    "st.sidebar.download_button('Download resume', pdfFileObj, file_name='Resume_DSterite.pdf', mime='application/pdf')"
   ]
  }
 ],
 "metadata": {
  "kernelspec": {
   "display_name": "streamlit_apps",
   "language": "python",
   "name": "python3"
  },
  "language_info": {
   "codemirror_mode": {
    "name": "ipython",
    "version": 3
   },
   "file_extension": ".py",
   "mimetype": "text/x-python",
   "name": "python",
   "nbconvert_exporter": "python",
   "pygments_lexer": "ipython3",
   "version": "3.12.4"
  }
 },
 "nbformat": 4,
 "nbformat_minor": 2
}
